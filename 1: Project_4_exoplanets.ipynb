{
  "nbformat": 4,
  "nbformat_minor": 0,
  "metadata": {
    "colab": {
      "provenance": [],
      "authorship_tag": "ABX9TyMlNgag+1M5DCFMcM2LgS94",
      "include_colab_link": true
    },
    "kernelspec": {
      "name": "python3",
      "display_name": "Python 3"
    },
    "language_info": {
      "name": "python"
    }
  },
  "cells": [
    {
      "cell_type": "markdown",
      "metadata": {
        "id": "view-in-github",
        "colab_type": "text"
      },
      "source": [
        "<a href=\"https://colab.research.google.com/github/deetip/Astro-1221/blob/main/1%3A%20Project_4_exoplanets.ipynb\" target=\"_parent\"><img src=\"https://colab.research.google.com/assets/colab-badge.svg\" alt=\"Open In Colab\"/></a>"
      ]
    },
    {
      "cell_type": "code",
      "execution_count": 2,
      "metadata": {
        "id": "zjom67gxnqYK"
      },
      "outputs": [],
      "source": [
        "import numpy as np\n",
        "import matplotlib.pyplot as plt\n",
        "import astropy.io.ascii\n",
        "import astropy.units as u\n",
        "import astropy.constants as ac"
      ]
    },
    {
      "cell_type": "code",
      "source": [
        "d = 2 * u.solRad\n",
        "a = 1 * u.AU\n",
        "v = np.sqrt (ac.G * u.solMass/ a)\n",
        "print(v.to(u.m / u.s)) #velocity of earth"
      ],
      "metadata": {
        "colab": {
          "base_uri": "https://localhost:8080/"
        },
        "id": "LKzC7PGWqCSV",
        "outputId": "8e0835f4-8fd8-4e71-c5ac-fd349a77e2d4"
      },
      "execution_count": 20,
      "outputs": [
        {
          "output_type": "stream",
          "name": "stdout",
          "text": [
            "29784.691829676933 m / s\n"
          ]
        }
      ]
    },
    {
      "cell_type": "code",
      "source": [
        "t = d/v\n",
        "print(t.to (u.hour)) # transit for earth"
      ],
      "metadata": {
        "colab": {
          "base_uri": "https://localhost:8080/"
        },
        "id": "LpAUIuM6rrzP",
        "outputId": "53dbfb6a-eff1-4f3a-d6ec-5053c70bab3a"
      },
      "execution_count": 48,
      "outputs": [
        {
          "output_type": "stream",
          "name": "stdout",
          "text": [
            "29.01625701705449 h\n"
          ]
        }
      ]
    },
    {
      "cell_type": "code",
      "source": [
        "d = 2 * u.solRad\n",
        "a = 5 * u.AU\n",
        "v = np.sqrt (ac.G * u.solMass/ a)\n",
        "print(v.to(u.m / u.s)) #velocity of jupiter"
      ],
      "metadata": {
        "colab": {
          "base_uri": "https://localhost:8080/"
        },
        "id": "qd95PZQEuj5k",
        "outputId": "bfaf121b-da56-4fc3-879a-c6da11199a1c"
      },
      "execution_count": 49,
      "outputs": [
        {
          "output_type": "stream",
          "name": "stdout",
          "text": [
            "13320.119124008042 m / s\n"
          ]
        }
      ]
    },
    {
      "cell_type": "code",
      "source": [
        "t = d/v\n",
        "print(t.to (u.hour)) # transit for jupiter"
      ],
      "metadata": {
        "colab": {
          "base_uri": "https://localhost:8080/"
        },
        "id": "Zr5eInGKun0R",
        "outputId": "f45f38a8-772e-4cf2-aed9-19c6220afdcc"
      },
      "execution_count": 50,
      "outputs": [
        {
          "output_type": "stream",
          "name": "stdout",
          "text": [
            "29.01625701705449 h\n"
          ]
        }
      ]
    },
    {
      "cell_type": "code",
      "source": [
        "delta = (ac.R_jup/ u.solRad) ** 2\n",
        "print(delta.decompose()) #flux"
      ],
      "metadata": {
        "colab": {
          "base_uri": "https://localhost:8080/"
        },
        "id": "VaO7-RG8siQK",
        "outputId": "60d35b0c-b440-478b-bd5c-7c00399f4eeb"
      },
      "execution_count": 51,
      "outputs": [
        {
          "output_type": "stream",
          "name": "stdout",
          "text": [
            "0.010560169441850944\n"
          ]
        }
      ]
    },
    {
      "cell_type": "code",
      "source": [
        "vel_e = 30 * (u.km / u.s)\n",
        "vel_s = ac.GM_earth/ac.GM_sun * vel_e\n",
        "print (vel_s.to(u.m / u.s)) #wobble for earth"
      ],
      "metadata": {
        "colab": {
          "base_uri": "https://localhost:8080/"
        },
        "id": "JwttCPRFxFav",
        "outputId": "e2489e04-49e0-4acd-a54e-f93757cc2c07"
      },
      "execution_count": 53,
      "outputs": [
        {
          "output_type": "stream",
          "name": "stdout",
          "text": [
            "0.0901046804655238 m / s\n"
          ]
        }
      ]
    },
    {
      "cell_type": "code",
      "source": [
        "vel_j = 13.32 * (u.km / u.s)\n",
        "vel_s = ac.GM_jup/ac.GM_sun * vel_j\n",
        "print (vel_s.to(u.m / u.s)) #wobble for jupiter"
      ],
      "metadata": {
        "colab": {
          "base_uri": "https://localhost:8080/"
        },
        "id": "_otjqQgzyqg1",
        "outputId": "d09d773b-1bea-42ae-c6bd-a7e7713b3a6d"
      },
      "execution_count": 55,
      "outputs": [
        {
          "output_type": "stream",
          "name": "stdout",
          "text": [
            "12.71519519647141 m / s\n"
          ]
        }
      ]
    }
  ]
}