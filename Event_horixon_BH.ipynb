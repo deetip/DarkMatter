{
  "nbformat": 4,
  "nbformat_minor": 0,
  "metadata": {
    "colab": {
      "provenance": [],
      "authorship_tag": "ABX9TyOEaTgOag3acwhqjBRVxFIK",
      "include_colab_link": true
    },
    "kernelspec": {
      "name": "python3",
      "display_name": "Python 3"
    },
    "language_info": {
      "name": "python"
    }
  },
  "cells": [
    {
      "cell_type": "markdown",
      "metadata": {
        "id": "view-in-github",
        "colab_type": "text"
      },
      "source": [
        "<a href=\"https://colab.research.google.com/github/deetip/DarkMatter/blob/main/Event_horixon_BH.ipynb\" target=\"_parent\"><img src=\"https://colab.research.google.com/assets/colab-badge.svg\" alt=\"Open In Colab\"/></a>"
      ]
    },
    {
      "cell_type": "code",
      "execution_count": null,
      "metadata": {
        "id": "eSTtuW9ZjJXS"
      },
      "outputs": [],
      "source": [
        "import numpy as np\n",
        "import astropy.units as u\n",
        "import astropy.constants as ac"
      ]
    },
    {
      "cell_type": "markdown",
      "source": [
        "$R_BH=\\frac{2 G M⊙ }{c^2}$\n"
      ],
      "metadata": {
        "id": "8hrI-heSjzIf"
      }
    },
    {
      "cell_type": "code",
      "source": [
        "M_bh = 1 * u.solMass#mass used for bh\n",
        "R_bh = 2 * ac.G *M_bh / ac.c**2 #formula to calc radius of bh\n",
        "print(\"the radius of a solar-mass black hole is\", R_bh.to(u.km))\n",
        "#calculating the radius of the solmass bh using the same formula above"
      ],
      "metadata": {
        "colab": {
          "base_uri": "https://localhost:8080/"
        },
        "id": "MJDpDz5fjxbc",
        "outputId": "bf20bcb8-2814-4037-cb21-dd81e34f3f50"
      },
      "execution_count": null,
      "outputs": [
        {
          "output_type": "stream",
          "name": "stdout",
          "text": [
            "the radius of a solar-mass black hole is 2.95325007610025 km\n"
          ]
        }
      ]
    },
    {
      "cell_type": "code",
      "source": [
        "delta_t = 0.01 * u.second #the change in time\n",
        "M_bh = delta_t * ac.c**3 / (16 * np.pi * ac.G)#formula to calc the total mass\n",
        "print(M_bh.to(u.solMass))\n",
        "#calculating the total mass of the merger of 2 black holes. (change in time x speed of light ^3)/ (16 pi x gravitational constant). plugged .01 sec for time"
      ],
      "metadata": {
        "id": "QAiJtEnhnFzq",
        "colab": {
          "base_uri": "https://localhost:8080/"
        },
        "outputId": "d9805cdd-1dec-46fd-a55e-6c3ddcd7bdfc"
      },
      "execution_count": null,
      "outputs": [
        {
          "output_type": "stream",
          "name": "stdout",
          "text": [
            "40.390629275268466 solMass\n"
          ]
        }
      ]
    },
    {
      "cell_type": "code",
      "source": [
        "h = 1e-21 #set magnitude of deforation\n",
        "delta_Earth = 1 * u.earthRad * h\n",
        "print(\"deformation of Earth is \", delta_Earth.to(u.m))\n",
        "#"
      ],
      "metadata": {
        "id": "CsAUwcnMn_qb",
        "colab": {
          "base_uri": "https://localhost:8080/"
        },
        "outputId": "ed63aef0-07d8-4441-b930-6c89f2c194a8"
      },
      "execution_count": null,
      "outputs": [
        {
          "output_type": "stream",
          "name": "stdout",
          "text": [
            "deformation of Earth is  6.378099999999999e-15 m\n"
          ]
        }
      ]
    },
    {
      "cell_type": "code",
      "source": [
        "R_bh = 2 * ac.G * 30 * u.solMass / (ac.c**2)\n",
        "D = R_bh / h\n",
        "print(\"distance of the black merger is\", D.to(1e6 * u.parsec))"
      ],
      "metadata": {
        "id": "g4KP9lK6oRX1",
        "colab": {
          "base_uri": "https://localhost:8080/"
        },
        "outputId": "345c8c55-c677-40d7-b83a-01d1ce0dab06"
      },
      "execution_count": null,
      "outputs": [
        {
          "output_type": "stream",
          "name": "stdout",
          "text": [
            "distance of the black merger is 2871.249504952705 1e+06 pc\n"
          ]
        }
      ]
    }
  ]
}