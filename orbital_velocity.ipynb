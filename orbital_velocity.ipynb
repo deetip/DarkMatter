{
  "nbformat": 4,
  "nbformat_minor": 0,
  "metadata": {
    "colab": {
      "provenance": [],
      "authorship_tag": "ABX9TyPWtW81C4w7bn07oTKLsjJa",
      "include_colab_link": true
    },
    "kernelspec": {
      "name": "python3",
      "display_name": "Python 3"
    },
    "language_info": {
      "name": "python"
    }
  },
  "cells": [
    {
      "cell_type": "markdown",
      "metadata": {
        "id": "view-in-github",
        "colab_type": "text"
      },
      "source": [
        "<a href=\"https://colab.research.google.com/github/deetip/DarkMatter/blob/main/orbital_velocity.ipynb\" target=\"_parent\"><img src=\"https://colab.research.google.com/assets/colab-badge.svg\" alt=\"Open In Colab\"/></a>"
      ]
    },
    {
      "cell_type": "markdown",
      "source": [
        "Deeti Patel Week 2"
      ],
      "metadata": {
        "id": "9PvYIwiZ44f5"
      }
    },
    {
      "cell_type": "code",
      "execution_count": null,
      "metadata": {
        "id": "9nvwv8w6XTG6"
      },
      "outputs": [],
      "source": [
        "import numpy as np"
      ]
    },
    {
      "cell_type": "code",
      "source": [
        "import astropy.units as u\n",
        "import astropy.constants as ac"
      ],
      "metadata": {
        "id": "48kPv0lyXa40"
      },
      "execution_count": null,
      "outputs": []
    },
    {
      "cell_type": "markdown",
      "source": [
        "A, Earth around the Sun"
      ],
      "metadata": {
        "id": "reZmAjkR56F6"
      }
    },
    {
      "cell_type": "markdown",
      "source": [
        "\n",
        "\n",
        "```\n",
        "# This is formatted as code\n",
        "```\n",
        "\n",
        "$v_{orbital} = \\sqrt\\frac{GM_\\odot}{r}$"
      ],
      "metadata": {
        "id": "Wvu5fBT0Xvzu"
      }
    },
    {
      "cell_type": "code",
      "source": [
        "ac.G.si"
      ],
      "metadata": {
        "colab": {
          "base_uri": "https://localhost:8080/",
          "height": 42
        },
        "id": "kVE2Pf53YvLQ",
        "outputId": "ad4321fc-410d-4342-c76a-b6d4dd86a07c"
      },
      "execution_count": null,
      "outputs": [
        {
          "output_type": "execute_result",
          "data": {
            "text/plain": [
              "<<class 'astropy.constants.codata2018.CODATA2018'> name='Gravitational constant' value=6.6743e-11 uncertainty=1.5e-15 unit='m3 / (kg s2)' reference='CODATA 2018'>"
            ],
            "text/latex": "$6.6743 \\times 10^{-11} \\; \\mathrm{\\frac{m^{3}}{kg\\,s^{2}}}$"
          },
          "metadata": {},
          "execution_count": 4
        }
      ]
    },
    {
      "cell_type": "code",
      "source": [
        "v_orbital = np.sqrt(ac.G * u.solMass / u.au)"
      ],
      "metadata": {
        "id": "GPDqvtt6Yz8j"
      },
      "execution_count": null,
      "outputs": []
    },
    {
      "cell_type": "code",
      "source": [
        "print(v_orbital.si, v_orbital.to(u.km / u.s), v_orbital.to(ac.c))"
      ],
      "metadata": {
        "colab": {
          "base_uri": "https://localhost:8080/"
        },
        "id": "_h8rt1mKZDHD",
        "outputId": "e3dc8734-1950-4182-9fb1-fbdec77ced22"
      },
      "execution_count": null,
      "outputs": [
        {
          "output_type": "stream",
          "name": "stdout",
          "text": [
            "29784.691829676933 m / s 29.784691829676934 km / s 9.935103780921979e-05 2.99792e+08 m / s\n"
          ]
        }
      ]
    },
    {
      "cell_type": "markdown",
      "source": [
        " B, a satellite around Earth"
      ],
      "metadata": {
        "id": "cn5qiH8t6Cij"
      }
    },
    {
      "cell_type": "markdown",
      "source": [
        "finding the radius of the satellite by adding 420 km (distance between the earth and the satellite- searched it up that is related to the ISS) + 6380 km(radius of the earth- found by searching it up)"
      ],
      "metadata": {
        "id": "qAog18jJ0bnR"
      }
    },
    {
      "cell_type": "code",
      "source": [
        "r_sat= (6380 + 420) * u.km"
      ],
      "metadata": {
        "id": "hZVZqRndyAf_"
      },
      "execution_count": null,
      "outputs": []
    },
    {
      "cell_type": "markdown",
      "source": [
        "plugged in numbers recieved from previous code ( constant of G is given, typed in earth mass, divided by radius^)"
      ],
      "metadata": {
        "id": "GWngnGoc1JKz"
      }
    },
    {
      "cell_type": "code",
      "source": [
        "v_satellite = np.sqrt(ac.G * u.earthMass / r_sat)"
      ],
      "metadata": {
        "id": "pEPnQmGDzlIs"
      },
      "execution_count": null,
      "outputs": []
    },
    {
      "cell_type": "markdown",
      "source": [
        "running code with units to get final answer"
      ],
      "metadata": {
        "id": "UcKVD16G1sNi"
      }
    },
    {
      "cell_type": "code",
      "source": [
        "print(v_satellite.to(u.km / u.s))"
      ],
      "metadata": {
        "colab": {
          "base_uri": "https://localhost:8080/"
        },
        "id": "-3EHtTdzcOO4",
        "outputId": "a6bb5c0b-d909-458f-cc9b-0a04511f35d0"
      },
      "execution_count": null,
      "outputs": [
        {
          "output_type": "stream",
          "name": "stdout",
          "text": [
            "7.656220077972742 km / s\n"
          ]
        }
      ]
    },
    {
      "cell_type": "markdown",
      "source": [
        "C, Calculating the Schwarzschild radius of a solar-mass blackhole"
      ],
      "metadata": {
        "id": "hGVSaiiR6Jp2"
      }
    },
    {
      "cell_type": "markdown",
      "source": [
        "found the formula to figure the radius of the Sch black hole"
      ],
      "metadata": {
        "id": "IAPjPd945Wv0"
      }
    },
    {
      "cell_type": "markdown",
      "source": [
        "$r_{Sch}= \\frac{GM_\\odot}{c^2}$"
      ],
      "metadata": {
        "id": "k8vielir2yXO"
      }
    },
    {
      "cell_type": "markdown",
      "source": [
        "plugged in units related to each part of the function"
      ],
      "metadata": {
        "id": "-ljlIgU85lGp"
      }
    },
    {
      "cell_type": "code",
      "source": [
        "r_sch = ac.G * u.solMass / ac.c**2"
      ],
      "metadata": {
        "id": "wGu6klEP11pg"
      },
      "execution_count": null,
      "outputs": []
    },
    {
      "cell_type": "markdown",
      "source": [
        "ran the code to get the radius"
      ],
      "metadata": {
        "id": "g09Xl71l5tiy"
      }
    },
    {
      "cell_type": "code",
      "source": [
        "\n",
        "print(r_sch.to(u.km))"
      ],
      "metadata": {
        "colab": {
          "base_uri": "https://localhost:8080/"
        },
        "id": "lgK_tMjdctSL",
        "outputId": "3fe24496-2543-4073-f205-2dc05cc607f1"
      },
      "execution_count": null,
      "outputs": [
        {
          "output_type": "stream",
          "name": "stdout",
          "text": [
            "1.476625038050125 km\n"
          ]
        }
      ]
    }
  ]
}